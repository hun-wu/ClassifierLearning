{
 "cells": [
  {
   "cell_type": "markdown",
   "id": "adf96df8-0472-474a-99dc-4d0e019ea59d",
   "metadata": {},
   "source": [
    "## model architecture"
   ]
  },
  {
   "cell_type": "code",
   "execution_count": 6,
   "id": "e2cd1316-c4f3-44af-852a-ec323d6f9785",
   "metadata": {},
   "outputs": [],
   "source": [
    "from transformers import BertModel, BertForSequenceClassification"
   ]
  },
  {
   "cell_type": "code",
   "execution_count": 7,
   "id": "3f55f64d-7303-4168-b34a-2733248f7b08",
   "metadata": {},
   "outputs": [],
   "source": [
    "model_name = 'bert-base-uncased'"
   ]
  },
  {
   "cell_type": "code",
   "execution_count": 8,
   "id": "bb601bc5-f163-421a-a67f-e6c66e03e9e6",
   "metadata": {},
   "outputs": [
    {
     "name": "stderr",
     "output_type": "stream",
     "text": [
      "Some weights of BertForSequenceClassification were not initialized from the model checkpoint at bert-base-uncased and are newly initialized: ['classifier.bias', 'classifier.weight']\n",
      "You should probably TRAIN this model on a down-stream task to be able to use it for predictions and inference.\n"
     ]
    }
   ],
   "source": [
    "model = BertModel.from_pretrained(model_name)\n",
    "cls_model = BertForSequenceClassification.from_pretrained(model_name)"
   ]
  },
  {
   "cell_type": "code",
   "execution_count": 4,
   "id": "b737473d-ab3c-4aac-bfb5-391c69eb388c",
   "metadata": {
    "scrolled": true
   },
   "outputs": [
    {
     "data": {
      "text/plain": [
       "BertModel(\n",
       "  (embeddings): BertEmbeddings(\n",
       "    (word_embeddings): Embedding(30522, 768, padding_idx=0)\n",
       "    (position_embeddings): Embedding(512, 768)\n",
       "    (token_type_embeddings): Embedding(2, 768)\n",
       "    (LayerNorm): LayerNorm((768,), eps=1e-12, elementwise_affine=True)\n",
       "    (dropout): Dropout(p=0.1, inplace=False)\n",
       "  )\n",
       "  (encoder): BertEncoder(\n",
       "    (layer): ModuleList(\n",
       "      (0-11): 12 x BertLayer(\n",
       "        (attention): BertAttention(\n",
       "          (self): BertSdpaSelfAttention(\n",
       "            (query): Linear(in_features=768, out_features=768, bias=True)\n",
       "            (key): Linear(in_features=768, out_features=768, bias=True)\n",
       "            (value): Linear(in_features=768, out_features=768, bias=True)\n",
       "            (dropout): Dropout(p=0.1, inplace=False)\n",
       "          )\n",
       "          (output): BertSelfOutput(\n",
       "            (dense): Linear(in_features=768, out_features=768, bias=True)\n",
       "            (LayerNorm): LayerNorm((768,), eps=1e-12, elementwise_affine=True)\n",
       "            (dropout): Dropout(p=0.1, inplace=False)\n",
       "          )\n",
       "        )\n",
       "        (intermediate): BertIntermediate(\n",
       "          (dense): Linear(in_features=768, out_features=3072, bias=True)\n",
       "          (intermediate_act_fn): GELUActivation()\n",
       "        )\n",
       "        (output): BertOutput(\n",
       "          (dense): Linear(in_features=3072, out_features=768, bias=True)\n",
       "          (LayerNorm): LayerNorm((768,), eps=1e-12, elementwise_affine=True)\n",
       "          (dropout): Dropout(p=0.1, inplace=False)\n",
       "        )\n",
       "      )\n",
       "    )\n",
       "  )\n",
       "  (pooler): BertPooler(\n",
       "    (dense): Linear(in_features=768, out_features=768, bias=True)\n",
       "    (activation): Tanh()\n",
       "  )\n",
       ")"
      ]
     },
     "execution_count": 4,
     "metadata": {},
     "output_type": "execute_result"
    }
   ],
   "source": [
    "model"
   ]
  },
  {
   "cell_type": "code",
   "execution_count": 9,
   "id": "b83ab655-3c2e-4348-8e7f-2c42f798f877",
   "metadata": {
    "collapsed": true,
    "jupyter": {
     "outputs_hidden": true
    },
    "scrolled": true
   },
   "outputs": [
    {
     "data": {
      "text/plain": [
       "BertForSequenceClassification(\n",
       "  (bert): BertModel(\n",
       "    (embeddings): BertEmbeddings(\n",
       "      (word_embeddings): Embedding(30522, 768, padding_idx=0)\n",
       "      (position_embeddings): Embedding(512, 768)\n",
       "      (token_type_embeddings): Embedding(2, 768)\n",
       "      (LayerNorm): LayerNorm((768,), eps=1e-12, elementwise_affine=True)\n",
       "      (dropout): Dropout(p=0.1, inplace=False)\n",
       "    )\n",
       "    (encoder): BertEncoder(\n",
       "      (layer): ModuleList(\n",
       "        (0-11): 12 x BertLayer(\n",
       "          (attention): BertAttention(\n",
       "            (self): BertSdpaSelfAttention(\n",
       "              (query): Linear(in_features=768, out_features=768, bias=True)\n",
       "              (key): Linear(in_features=768, out_features=768, bias=True)\n",
       "              (value): Linear(in_features=768, out_features=768, bias=True)\n",
       "              (dropout): Dropout(p=0.1, inplace=False)\n",
       "            )\n",
       "            (output): BertSelfOutput(\n",
       "              (dense): Linear(in_features=768, out_features=768, bias=True)\n",
       "              (LayerNorm): LayerNorm((768,), eps=1e-12, elementwise_affine=True)\n",
       "              (dropout): Dropout(p=0.1, inplace=False)\n",
       "            )\n",
       "          )\n",
       "          (intermediate): BertIntermediate(\n",
       "            (dense): Linear(in_features=768, out_features=3072, bias=True)\n",
       "            (intermediate_act_fn): GELUActivation()\n",
       "          )\n",
       "          (output): BertOutput(\n",
       "            (dense): Linear(in_features=3072, out_features=768, bias=True)\n",
       "            (LayerNorm): LayerNorm((768,), eps=1e-12, elementwise_affine=True)\n",
       "            (dropout): Dropout(p=0.1, inplace=False)\n",
       "          )\n",
       "        )\n",
       "      )\n",
       "    )\n",
       "    (pooler): BertPooler(\n",
       "      (dense): Linear(in_features=768, out_features=768, bias=True)\n",
       "      (activation): Tanh()\n",
       "    )\n",
       "  )\n",
       "  (dropout): Dropout(p=0.1, inplace=False)\n",
       "  (classifier): Linear(in_features=768, out_features=2, bias=True)\n",
       ")"
      ]
     },
     "execution_count": 9,
     "metadata": {},
     "output_type": "execute_result"
    }
   ],
   "source": [
    "cls_model\n",
    "# 其实与bert基本上一样，只是在末尾接了一个输入是768，输出是2的分类\n",
    "#   (classifier): Linear(in_features=768, out_features=2, bias=True)"
   ]
  },
  {
   "cell_type": "markdown",
   "id": "6fe3507b-891c-48f5-99ef-3886eed65cfc",
   "metadata": {},
   "source": [
    "### summary\n",
    "- bert: encoder of transformer(+embedding, pooler)  \n",
    "    - transformer: encoder-decoder\n",
    "- bert\n",
    "    - embeddings\n",
    "    - encoder(12layers)\n",
    "          - self-attention（qkv）\n",
    "          - feed forward\n",
    "    - pooler"
   ]
  },
  {
   "cell_type": "markdown",
   "id": "41c9d92d-a6e9-405c-bb8c-89fccbb81088",
   "metadata": {},
   "source": [
    "## 参数量统计"
   ]
  },
  {
   "cell_type": "code",
   "execution_count": 28,
   "id": "e42e9bd6-f997-4153-b4c8-c252ae9ecdbf",
   "metadata": {
    "scrolled": true
   },
   "outputs": [
    {
     "name": "stdout",
     "output_type": "stream",
     "text": [
      "embeddings.word_embeddings.weight -> torch.Size([30522, 768]) -> 23440896\n",
      "embeddings.position_embeddings.weight -> torch.Size([512, 768]) -> 393216\n",
      "embeddings.token_type_embeddings.weight -> torch.Size([2, 768]) -> 1536\n",
      "embeddings.LayerNorm.weight -> torch.Size([768]) -> 768\n",
      "embeddings.LayerNorm.bias -> torch.Size([768]) -> 768\n",
      "encoder.layer.0.attention.self.query.weight -> torch.Size([768, 768]) -> 589824\n",
      "encoder.layer.0.attention.self.query.bias -> torch.Size([768]) -> 768\n",
      "encoder.layer.0.attention.self.key.weight -> torch.Size([768, 768]) -> 589824\n",
      "encoder.layer.0.attention.self.key.bias -> torch.Size([768]) -> 768\n",
      "encoder.layer.0.attention.self.value.weight -> torch.Size([768, 768]) -> 589824\n",
      "encoder.layer.0.attention.self.value.bias -> torch.Size([768]) -> 768\n",
      "encoder.layer.0.attention.output.dense.weight -> torch.Size([768, 768]) -> 589824\n",
      "encoder.layer.0.attention.output.dense.bias -> torch.Size([768]) -> 768\n",
      "encoder.layer.0.attention.output.LayerNorm.weight -> torch.Size([768]) -> 768\n",
      "encoder.layer.0.attention.output.LayerNorm.bias -> torch.Size([768]) -> 768\n",
      "encoder.layer.0.intermediate.dense.weight -> torch.Size([3072, 768]) -> 2359296\n",
      "encoder.layer.0.intermediate.dense.bias -> torch.Size([3072]) -> 3072\n",
      "encoder.layer.0.output.dense.weight -> torch.Size([768, 3072]) -> 2359296\n",
      "encoder.layer.0.output.dense.bias -> torch.Size([768]) -> 768\n",
      "encoder.layer.0.output.LayerNorm.weight -> torch.Size([768]) -> 768\n",
      "encoder.layer.0.output.LayerNorm.bias -> torch.Size([768]) -> 768\n",
      "encoder.layer.1.attention.self.query.weight -> torch.Size([768, 768]) -> 589824\n",
      "encoder.layer.1.attention.self.query.bias -> torch.Size([768]) -> 768\n",
      "encoder.layer.1.attention.self.key.weight -> torch.Size([768, 768]) -> 589824\n",
      "encoder.layer.1.attention.self.key.bias -> torch.Size([768]) -> 768\n",
      "encoder.layer.1.attention.self.value.weight -> torch.Size([768, 768]) -> 589824\n",
      "encoder.layer.1.attention.self.value.bias -> torch.Size([768]) -> 768\n",
      "encoder.layer.1.attention.output.dense.weight -> torch.Size([768, 768]) -> 589824\n",
      "encoder.layer.1.attention.output.dense.bias -> torch.Size([768]) -> 768\n",
      "encoder.layer.1.attention.output.LayerNorm.weight -> torch.Size([768]) -> 768\n",
      "encoder.layer.1.attention.output.LayerNorm.bias -> torch.Size([768]) -> 768\n",
      "encoder.layer.1.intermediate.dense.weight -> torch.Size([3072, 768]) -> 2359296\n",
      "encoder.layer.1.intermediate.dense.bias -> torch.Size([3072]) -> 3072\n",
      "encoder.layer.1.output.dense.weight -> torch.Size([768, 3072]) -> 2359296\n",
      "encoder.layer.1.output.dense.bias -> torch.Size([768]) -> 768\n",
      "encoder.layer.1.output.LayerNorm.weight -> torch.Size([768]) -> 768\n",
      "encoder.layer.1.output.LayerNorm.bias -> torch.Size([768]) -> 768\n",
      "encoder.layer.2.attention.self.query.weight -> torch.Size([768, 768]) -> 589824\n",
      "encoder.layer.2.attention.self.query.bias -> torch.Size([768]) -> 768\n",
      "encoder.layer.2.attention.self.key.weight -> torch.Size([768, 768]) -> 589824\n",
      "encoder.layer.2.attention.self.key.bias -> torch.Size([768]) -> 768\n",
      "encoder.layer.2.attention.self.value.weight -> torch.Size([768, 768]) -> 589824\n",
      "encoder.layer.2.attention.self.value.bias -> torch.Size([768]) -> 768\n",
      "encoder.layer.2.attention.output.dense.weight -> torch.Size([768, 768]) -> 589824\n",
      "encoder.layer.2.attention.output.dense.bias -> torch.Size([768]) -> 768\n",
      "encoder.layer.2.attention.output.LayerNorm.weight -> torch.Size([768]) -> 768\n",
      "encoder.layer.2.attention.output.LayerNorm.bias -> torch.Size([768]) -> 768\n",
      "encoder.layer.2.intermediate.dense.weight -> torch.Size([3072, 768]) -> 2359296\n",
      "encoder.layer.2.intermediate.dense.bias -> torch.Size([3072]) -> 3072\n",
      "encoder.layer.2.output.dense.weight -> torch.Size([768, 3072]) -> 2359296\n",
      "encoder.layer.2.output.dense.bias -> torch.Size([768]) -> 768\n",
      "encoder.layer.2.output.LayerNorm.weight -> torch.Size([768]) -> 768\n",
      "encoder.layer.2.output.LayerNorm.bias -> torch.Size([768]) -> 768\n",
      "encoder.layer.3.attention.self.query.weight -> torch.Size([768, 768]) -> 589824\n",
      "encoder.layer.3.attention.self.query.bias -> torch.Size([768]) -> 768\n",
      "encoder.layer.3.attention.self.key.weight -> torch.Size([768, 768]) -> 589824\n",
      "encoder.layer.3.attention.self.key.bias -> torch.Size([768]) -> 768\n",
      "encoder.layer.3.attention.self.value.weight -> torch.Size([768, 768]) -> 589824\n",
      "encoder.layer.3.attention.self.value.bias -> torch.Size([768]) -> 768\n",
      "encoder.layer.3.attention.output.dense.weight -> torch.Size([768, 768]) -> 589824\n",
      "encoder.layer.3.attention.output.dense.bias -> torch.Size([768]) -> 768\n",
      "encoder.layer.3.attention.output.LayerNorm.weight -> torch.Size([768]) -> 768\n",
      "encoder.layer.3.attention.output.LayerNorm.bias -> torch.Size([768]) -> 768\n",
      "encoder.layer.3.intermediate.dense.weight -> torch.Size([3072, 768]) -> 2359296\n",
      "encoder.layer.3.intermediate.dense.bias -> torch.Size([3072]) -> 3072\n",
      "encoder.layer.3.output.dense.weight -> torch.Size([768, 3072]) -> 2359296\n",
      "encoder.layer.3.output.dense.bias -> torch.Size([768]) -> 768\n",
      "encoder.layer.3.output.LayerNorm.weight -> torch.Size([768]) -> 768\n",
      "encoder.layer.3.output.LayerNorm.bias -> torch.Size([768]) -> 768\n",
      "encoder.layer.4.attention.self.query.weight -> torch.Size([768, 768]) -> 589824\n",
      "encoder.layer.4.attention.self.query.bias -> torch.Size([768]) -> 768\n",
      "encoder.layer.4.attention.self.key.weight -> torch.Size([768, 768]) -> 589824\n",
      "encoder.layer.4.attention.self.key.bias -> torch.Size([768]) -> 768\n",
      "encoder.layer.4.attention.self.value.weight -> torch.Size([768, 768]) -> 589824\n",
      "encoder.layer.4.attention.self.value.bias -> torch.Size([768]) -> 768\n",
      "encoder.layer.4.attention.output.dense.weight -> torch.Size([768, 768]) -> 589824\n",
      "encoder.layer.4.attention.output.dense.bias -> torch.Size([768]) -> 768\n",
      "encoder.layer.4.attention.output.LayerNorm.weight -> torch.Size([768]) -> 768\n",
      "encoder.layer.4.attention.output.LayerNorm.bias -> torch.Size([768]) -> 768\n",
      "encoder.layer.4.intermediate.dense.weight -> torch.Size([3072, 768]) -> 2359296\n",
      "encoder.layer.4.intermediate.dense.bias -> torch.Size([3072]) -> 3072\n",
      "encoder.layer.4.output.dense.weight -> torch.Size([768, 3072]) -> 2359296\n",
      "encoder.layer.4.output.dense.bias -> torch.Size([768]) -> 768\n",
      "encoder.layer.4.output.LayerNorm.weight -> torch.Size([768]) -> 768\n",
      "encoder.layer.4.output.LayerNorm.bias -> torch.Size([768]) -> 768\n",
      "encoder.layer.5.attention.self.query.weight -> torch.Size([768, 768]) -> 589824\n",
      "encoder.layer.5.attention.self.query.bias -> torch.Size([768]) -> 768\n",
      "encoder.layer.5.attention.self.key.weight -> torch.Size([768, 768]) -> 589824\n",
      "encoder.layer.5.attention.self.key.bias -> torch.Size([768]) -> 768\n",
      "encoder.layer.5.attention.self.value.weight -> torch.Size([768, 768]) -> 589824\n",
      "encoder.layer.5.attention.self.value.bias -> torch.Size([768]) -> 768\n",
      "encoder.layer.5.attention.output.dense.weight -> torch.Size([768, 768]) -> 589824\n",
      "encoder.layer.5.attention.output.dense.bias -> torch.Size([768]) -> 768\n",
      "encoder.layer.5.attention.output.LayerNorm.weight -> torch.Size([768]) -> 768\n",
      "encoder.layer.5.attention.output.LayerNorm.bias -> torch.Size([768]) -> 768\n",
      "encoder.layer.5.intermediate.dense.weight -> torch.Size([3072, 768]) -> 2359296\n",
      "encoder.layer.5.intermediate.dense.bias -> torch.Size([3072]) -> 3072\n",
      "encoder.layer.5.output.dense.weight -> torch.Size([768, 3072]) -> 2359296\n",
      "encoder.layer.5.output.dense.bias -> torch.Size([768]) -> 768\n",
      "encoder.layer.5.output.LayerNorm.weight -> torch.Size([768]) -> 768\n",
      "encoder.layer.5.output.LayerNorm.bias -> torch.Size([768]) -> 768\n",
      "encoder.layer.6.attention.self.query.weight -> torch.Size([768, 768]) -> 589824\n",
      "encoder.layer.6.attention.self.query.bias -> torch.Size([768]) -> 768\n",
      "encoder.layer.6.attention.self.key.weight -> torch.Size([768, 768]) -> 589824\n",
      "encoder.layer.6.attention.self.key.bias -> torch.Size([768]) -> 768\n",
      "encoder.layer.6.attention.self.value.weight -> torch.Size([768, 768]) -> 589824\n",
      "encoder.layer.6.attention.self.value.bias -> torch.Size([768]) -> 768\n",
      "encoder.layer.6.attention.output.dense.weight -> torch.Size([768, 768]) -> 589824\n",
      "encoder.layer.6.attention.output.dense.bias -> torch.Size([768]) -> 768\n",
      "encoder.layer.6.attention.output.LayerNorm.weight -> torch.Size([768]) -> 768\n",
      "encoder.layer.6.attention.output.LayerNorm.bias -> torch.Size([768]) -> 768\n",
      "encoder.layer.6.intermediate.dense.weight -> torch.Size([3072, 768]) -> 2359296\n",
      "encoder.layer.6.intermediate.dense.bias -> torch.Size([3072]) -> 3072\n",
      "encoder.layer.6.output.dense.weight -> torch.Size([768, 3072]) -> 2359296\n",
      "encoder.layer.6.output.dense.bias -> torch.Size([768]) -> 768\n",
      "encoder.layer.6.output.LayerNorm.weight -> torch.Size([768]) -> 768\n",
      "encoder.layer.6.output.LayerNorm.bias -> torch.Size([768]) -> 768\n",
      "encoder.layer.7.attention.self.query.weight -> torch.Size([768, 768]) -> 589824\n",
      "encoder.layer.7.attention.self.query.bias -> torch.Size([768]) -> 768\n",
      "encoder.layer.7.attention.self.key.weight -> torch.Size([768, 768]) -> 589824\n",
      "encoder.layer.7.attention.self.key.bias -> torch.Size([768]) -> 768\n",
      "encoder.layer.7.attention.self.value.weight -> torch.Size([768, 768]) -> 589824\n",
      "encoder.layer.7.attention.self.value.bias -> torch.Size([768]) -> 768\n",
      "encoder.layer.7.attention.output.dense.weight -> torch.Size([768, 768]) -> 589824\n",
      "encoder.layer.7.attention.output.dense.bias -> torch.Size([768]) -> 768\n",
      "encoder.layer.7.attention.output.LayerNorm.weight -> torch.Size([768]) -> 768\n",
      "encoder.layer.7.attention.output.LayerNorm.bias -> torch.Size([768]) -> 768\n",
      "encoder.layer.7.intermediate.dense.weight -> torch.Size([3072, 768]) -> 2359296\n",
      "encoder.layer.7.intermediate.dense.bias -> torch.Size([3072]) -> 3072\n",
      "encoder.layer.7.output.dense.weight -> torch.Size([768, 3072]) -> 2359296\n",
      "encoder.layer.7.output.dense.bias -> torch.Size([768]) -> 768\n",
      "encoder.layer.7.output.LayerNorm.weight -> torch.Size([768]) -> 768\n",
      "encoder.layer.7.output.LayerNorm.bias -> torch.Size([768]) -> 768\n",
      "encoder.layer.8.attention.self.query.weight -> torch.Size([768, 768]) -> 589824\n",
      "encoder.layer.8.attention.self.query.bias -> torch.Size([768]) -> 768\n",
      "encoder.layer.8.attention.self.key.weight -> torch.Size([768, 768]) -> 589824\n",
      "encoder.layer.8.attention.self.key.bias -> torch.Size([768]) -> 768\n",
      "encoder.layer.8.attention.self.value.weight -> torch.Size([768, 768]) -> 589824\n",
      "encoder.layer.8.attention.self.value.bias -> torch.Size([768]) -> 768\n",
      "encoder.layer.8.attention.output.dense.weight -> torch.Size([768, 768]) -> 589824\n",
      "encoder.layer.8.attention.output.dense.bias -> torch.Size([768]) -> 768\n",
      "encoder.layer.8.attention.output.LayerNorm.weight -> torch.Size([768]) -> 768\n",
      "encoder.layer.8.attention.output.LayerNorm.bias -> torch.Size([768]) -> 768\n",
      "encoder.layer.8.intermediate.dense.weight -> torch.Size([3072, 768]) -> 2359296\n",
      "encoder.layer.8.intermediate.dense.bias -> torch.Size([3072]) -> 3072\n",
      "encoder.layer.8.output.dense.weight -> torch.Size([768, 3072]) -> 2359296\n",
      "encoder.layer.8.output.dense.bias -> torch.Size([768]) -> 768\n",
      "encoder.layer.8.output.LayerNorm.weight -> torch.Size([768]) -> 768\n",
      "encoder.layer.8.output.LayerNorm.bias -> torch.Size([768]) -> 768\n",
      "encoder.layer.9.attention.self.query.weight -> torch.Size([768, 768]) -> 589824\n",
      "encoder.layer.9.attention.self.query.bias -> torch.Size([768]) -> 768\n",
      "encoder.layer.9.attention.self.key.weight -> torch.Size([768, 768]) -> 589824\n",
      "encoder.layer.9.attention.self.key.bias -> torch.Size([768]) -> 768\n",
      "encoder.layer.9.attention.self.value.weight -> torch.Size([768, 768]) -> 589824\n",
      "encoder.layer.9.attention.self.value.bias -> torch.Size([768]) -> 768\n",
      "encoder.layer.9.attention.output.dense.weight -> torch.Size([768, 768]) -> 589824\n",
      "encoder.layer.9.attention.output.dense.bias -> torch.Size([768]) -> 768\n",
      "encoder.layer.9.attention.output.LayerNorm.weight -> torch.Size([768]) -> 768\n",
      "encoder.layer.9.attention.output.LayerNorm.bias -> torch.Size([768]) -> 768\n",
      "encoder.layer.9.intermediate.dense.weight -> torch.Size([3072, 768]) -> 2359296\n",
      "encoder.layer.9.intermediate.dense.bias -> torch.Size([3072]) -> 3072\n",
      "encoder.layer.9.output.dense.weight -> torch.Size([768, 3072]) -> 2359296\n",
      "encoder.layer.9.output.dense.bias -> torch.Size([768]) -> 768\n",
      "encoder.layer.9.output.LayerNorm.weight -> torch.Size([768]) -> 768\n",
      "encoder.layer.9.output.LayerNorm.bias -> torch.Size([768]) -> 768\n",
      "encoder.layer.10.attention.self.query.weight -> torch.Size([768, 768]) -> 589824\n",
      "encoder.layer.10.attention.self.query.bias -> torch.Size([768]) -> 768\n",
      "encoder.layer.10.attention.self.key.weight -> torch.Size([768, 768]) -> 589824\n",
      "encoder.layer.10.attention.self.key.bias -> torch.Size([768]) -> 768\n",
      "encoder.layer.10.attention.self.value.weight -> torch.Size([768, 768]) -> 589824\n",
      "encoder.layer.10.attention.self.value.bias -> torch.Size([768]) -> 768\n",
      "encoder.layer.10.attention.output.dense.weight -> torch.Size([768, 768]) -> 589824\n",
      "encoder.layer.10.attention.output.dense.bias -> torch.Size([768]) -> 768\n",
      "encoder.layer.10.attention.output.LayerNorm.weight -> torch.Size([768]) -> 768\n",
      "encoder.layer.10.attention.output.LayerNorm.bias -> torch.Size([768]) -> 768\n",
      "encoder.layer.10.intermediate.dense.weight -> torch.Size([3072, 768]) -> 2359296\n",
      "encoder.layer.10.intermediate.dense.bias -> torch.Size([3072]) -> 3072\n",
      "encoder.layer.10.output.dense.weight -> torch.Size([768, 3072]) -> 2359296\n",
      "encoder.layer.10.output.dense.bias -> torch.Size([768]) -> 768\n",
      "encoder.layer.10.output.LayerNorm.weight -> torch.Size([768]) -> 768\n",
      "encoder.layer.10.output.LayerNorm.bias -> torch.Size([768]) -> 768\n",
      "encoder.layer.11.attention.self.query.weight -> torch.Size([768, 768]) -> 589824\n",
      "encoder.layer.11.attention.self.query.bias -> torch.Size([768]) -> 768\n",
      "encoder.layer.11.attention.self.key.weight -> torch.Size([768, 768]) -> 589824\n",
      "encoder.layer.11.attention.self.key.bias -> torch.Size([768]) -> 768\n",
      "encoder.layer.11.attention.self.value.weight -> torch.Size([768, 768]) -> 589824\n",
      "encoder.layer.11.attention.self.value.bias -> torch.Size([768]) -> 768\n",
      "encoder.layer.11.attention.output.dense.weight -> torch.Size([768, 768]) -> 589824\n",
      "encoder.layer.11.attention.output.dense.bias -> torch.Size([768]) -> 768\n",
      "encoder.layer.11.attention.output.LayerNorm.weight -> torch.Size([768]) -> 768\n",
      "encoder.layer.11.attention.output.LayerNorm.bias -> torch.Size([768]) -> 768\n",
      "encoder.layer.11.intermediate.dense.weight -> torch.Size([3072, 768]) -> 2359296\n",
      "encoder.layer.11.intermediate.dense.bias -> torch.Size([3072]) -> 3072\n",
      "encoder.layer.11.output.dense.weight -> torch.Size([768, 3072]) -> 2359296\n",
      "encoder.layer.11.output.dense.bias -> torch.Size([768]) -> 768\n",
      "encoder.layer.11.output.LayerNorm.weight -> torch.Size([768]) -> 768\n",
      "encoder.layer.11.output.LayerNorm.bias -> torch.Size([768]) -> 768\n",
      "pooler.dense.weight -> torch.Size([768, 768]) -> 589824\n",
      "pooler.dense.bias -> torch.Size([768]) -> 768\n"
     ]
    }
   ],
   "source": [
    "# 参数量统计\n",
    "total_params = 0\n",
    "total_learnable_params = 0\n",
    "total_embedding_params = 0\n",
    "total_encoder_params = 0\n",
    "total_pooler_params = 0\n",
    "\n",
    "for name, param in model.named_parameters():\n",
    "    print(name, '->', param.shape, '->', param.numel())\n",
    "    if 'embedding' in name:\n",
    "        total_embedding_params += param.numel()\n",
    "    if 'encoder' in name:\n",
    "        total_encoder_params += param.numel()\n",
    "    if 'pooler' in name:\n",
    "        total_pooler_params += param.numel()\n",
    "    if param.requires_grad:\n",
    "        total_learnable_params += param.numel()\n",
    "    total_params += param.numel()"
   ]
  },
  {
   "cell_type": "code",
   "execution_count": 23,
   "id": "e652f66e-cfcb-4b4c-8664-6fc9c1683469",
   "metadata": {},
   "outputs": [
    {
     "data": {
      "text/plain": [
       "109482240"
      ]
     },
     "execution_count": 23,
     "metadata": {},
     "output_type": "execute_result"
    }
   ],
   "source": [
    "total_learnable_params"
   ]
  },
  {
   "cell_type": "code",
   "execution_count": 24,
   "id": "ed092cc2-aeac-436b-9dfe-4ac0f414ec60",
   "metadata": {},
   "outputs": [
    {
     "data": {
      "text/plain": [
       "109482240"
      ]
     },
     "execution_count": 24,
     "metadata": {},
     "output_type": "execute_result"
    }
   ],
   "source": [
    "total_params"
   ]
  },
  {
   "cell_type": "code",
   "execution_count": 27,
   "id": "3358c8f5-b88e-4b5f-aaea-6d04753ab7c4",
   "metadata": {},
   "outputs": [
    {
     "name": "stdout",
     "output_type": "stream",
     "text": [
      "0.21772649152958506\n",
      "0.776879099295009\n",
      "0.005394409175405983\n"
     ]
    }
   ],
   "source": [
    "params = [total_embedding_params, total_encoder_params, total_pooler_params]\n",
    "for param in params:\n",
    "    print(param/sum(params))"
   ]
  },
  {
   "cell_type": "code",
   "execution_count": null,
   "id": "db4a0443-02a9-42a1-9997-ab17815355be",
   "metadata": {},
   "outputs": [],
   "source": []
  }
 ],
 "metadata": {
  "kernelspec": {
   "display_name": "torch",
   "language": "python",
   "name": "torch"
  },
  "language_info": {
   "codemirror_mode": {
    "name": "ipython",
    "version": 3
   },
   "file_extension": ".py",
   "mimetype": "text/x-python",
   "name": "python",
   "nbconvert_exporter": "python",
   "pygments_lexer": "ipython3",
   "version": "3.12.3"
  }
 },
 "nbformat": 4,
 "nbformat_minor": 5
}
