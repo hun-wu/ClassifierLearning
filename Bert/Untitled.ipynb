{
 "cells": [
  {
   "cell_type": "markdown",
   "id": "0e22f660-183c-4d92-814f-ef2f6a8588b9",
   "metadata": {},
   "source": [
    "## 一些概念"
   ]
  },
  {
   "cell_type": "markdown",
   "id": "e4a5a090-225b-4ded-abb5-2920550270fb",
   "metadata": {},
   "source": [
    "LLM生成过程：Decoder 解码器（transformer block）  => 输出一个词的概率分布（softmax后的P）  => Sample/Argmax/Top-k/Top-p（选词策略）  => 拼接新词，继续解码  \n"
   ]
  },
  {
   "cell_type": "markdown",
   "id": "f1798c68-f861-4767-938b-ca76937b50c4",
   "metadata": {},
   "source": [
    "argmax、sample、top-k、top-p  \n",
    "作用是在概率分布之后选择其中的某位置的具体方法。\n",
    "贪心：直接选择概率最大的词；\n",
    "sample：根据概率取样。普通的sample是直接概率采样，也有可能采样到概率非常低的词。而限制采样的范围，则可以选top-k和top-p\n",
    "top-k sample: 仅对前k个词进行sample\n",
    "top-p sample: 动态选取词集合，只要这些词的累计概率超过p（通常 p=0.9 或 0.95）"
   ]
  },
  {
   "cell_type": "markdown",
   "id": "6abdc493-9aec-438c-a8ae-31af7dba4bba",
   "metadata": {},
   "source": [
    "logits: \n",
    "logit 和 sigmoid : 反函数"
   ]
  },
  {
   "cell_type": "markdown",
   "id": "fe0247c0-b210-4cb2-8f68-9ad347bd313a",
   "metadata": {},
   "source": [
    "延伸：为什么神经网络不直接预测概率？  \n",
    "logit 的空间是 (-∞, +∞)，更适合线性变换和优化  \n",
    "概率空间是 (0,1)，容易饱和、不好学习  \n",
    "用 logit + sigmoid/softmax 更稳定、更普适  "
   ]
  },
  {
   "attachments": {},
   "cell_type": "markdown",
   "id": "48f9d53f-dae9-4c35-885b-05a64b014919",
   "metadata": {},
   "source": []
  },
  {
   "cell_type": "code",
   "execution_count": 4,
   "id": "216739ea-a0d1-4b6a-900a-e693d114e149",
   "metadata": {},
   "outputs": [
    {
     "name": "stdout",
     "output_type": "stream",
     "text": [
      "0.5 tensor(0)\n"
     ]
    }
   ],
   "source": [
    "from torch import argmax, tensor\n",
    "P = [0.5, 0.3, 0.2]  # 对应[the, a, cat]\n",
    "print(max(P), argmax(tensor(P)))\n"
   ]
  },
  {
   "cell_type": "code",
   "execution_count": null,
   "id": "a3bc4e2e-0560-4e50-9180-63e023efa745",
   "metadata": {},
   "outputs": [],
   "source": []
  }
 ],
 "metadata": {
  "kernelspec": {
   "display_name": "torch",
   "language": "python",
   "name": "torch"
  },
  "language_info": {
   "codemirror_mode": {
    "name": "ipython",
    "version": 3
   },
   "file_extension": ".py",
   "mimetype": "text/x-python",
   "name": "python",
   "nbconvert_exporter": "python",
   "pygments_lexer": "ipython3",
   "version": "3.12.3"
  }
 },
 "nbformat": 4,
 "nbformat_minor": 5
}
